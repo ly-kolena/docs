{
  "cells": [
    {
      "cell_type": "markdown",
      "id": "54b36cbe",
      "metadata": {
        "id": "54b36cbe"
      },
      "source": [
        "# Kolena Agents Python Client Quickstart\n"
      ]
    },
    {
      "cell_type": "markdown",
      "id": "9dc4ea51",
      "metadata": {
        "id": "9dc4ea51"
      },
      "source": [
        "### Install Python Client\n",
        "\n",
        "Install the `kolena-agents` client from PyPI using any Python package manager such as pip or poetry:"
      ]
    },
    {
      "cell_type": "code",
      "execution_count": null,
      "id": "8650e44c",
      "metadata": {
        "id": "8650e44c"
      },
      "outputs": [],
      "source": [
        "%pip install kolena_agents"
      ]
    },
    {
      "cell_type": "markdown",
      "id": "7a5f6af7",
      "metadata": {
        "id": "7a5f6af7"
      },
      "source": [
        "### Create and Store API Key\n",
        "\n",
        "An API Key is required to use the python client. Generate a key from your user profile within the web UI at https://agents.kolena.com.\n",
        "Copy the created key and store in a KOLENA_API_KEY environment variable:"
      ]
    },
    {
      "cell_type": "code",
      "execution_count": null,
      "id": "0f39fc88",
      "metadata": {
        "id": "0f39fc88"
      },
      "outputs": [],
      "source": [
        "KOLENA_API_KEY=\"your-api-key\""
      ]
    },
    {
      "cell_type": "markdown",
      "id": "44504130",
      "metadata": {
        "id": "44504130"
      },
      "source": [
        "### Initialize the Python Client"
      ]
    },
    {
      "cell_type": "code",
      "execution_count": null,
      "id": "6eb257e3",
      "metadata": {
        "id": "6eb257e3"
      },
      "outputs": [],
      "source": [
        "\n",
        "from kolena_agents import Client\n",
        "\n",
        "client = Client(api_key=KOLENA_API_KEY) # If omitted, the environment variable `KOLENA_API_KEY` will be used"
      ]
    },
    {
      "cell_type": "markdown",
      "id": "09abfb5c",
      "metadata": {
        "id": "09abfb5c"
      },
      "source": [
        "### Create an Agent\n",
        "\n",
        "We recommend creating your agent in the web UI at https://agents.kolena.com. This is the easiest way to create prompts and validate results on a sample set of files. See our guide on Creating an Agent for more details.\n",
        "\n",
        "Once you have created your agent, you can call its API methods by using its agent ID. You can find this in the URL of the agent page or by clicking the “Copy Agent ID” button on the agent’s overview page next to the Agent name."
      ]
    },
    {
      "cell_type": "code",
      "execution_count": null,
      "id": "b30891dc",
      "metadata": {
        "id": "b30891dc"
      },
      "outputs": [],
      "source": [
        "agent_id = ..."
      ]
    },
    {
      "cell_type": "markdown",
      "id": "1e979287",
      "metadata": {
        "id": "1e979287"
      },
      "source": [
        "### Create a New Run\n",
        "\n",
        "Upload files to an agent to create a new run."
      ]
    },
    {
      "cell_type": "code",
      "execution_count": null,
      "id": "f75dd7cd",
      "metadata": {
        "id": "f75dd7cd"
      },
      "outputs": [],
      "source": [
        "new_run = client.agent_run.add(agent_id=agent_id, files=[\"path/to/file1\", \"path/to/file2\"])\n",
        "print(new_run)"
      ]
    },
    {
      "cell_type": "markdown",
      "id": "227493b5",
      "metadata": {
        "id": "227493b5"
      },
      "source": [
        "### Download Results of Run"
      ]
    },
    {
      "cell_type": "code",
      "execution_count": null,
      "id": "561c15b3",
      "metadata": {
        "id": "561c15b3"
      },
      "outputs": [],
      "source": [
        "run_results = client.agent_run.get(agent_id=agent_id, run_id=new_run.run_id)\n",
        "print(run_results) # Get full run including result data and metadata\n",
        "print(run_results.data) # Get the run result data as a dict"
      ]
    },
    {
      "cell_type": "markdown",
      "id": "ea85042c",
      "metadata": {
        "id": "ea85042c"
      },
      "source": [
        "### (Optional) Retrieve List of All Run Results"
      ]
    },
    {
      "cell_type": "code",
      "execution_count": null,
      "id": "d2c90700",
      "metadata": {
        "id": "d2c90700"
      },
      "outputs": [],
      "source": [
        "all_runs = client.agent_run.list(agent_id=agent_id)\n",
        "print(all_runs)"
      ]
    },
    {
      "cell_type": "markdown",
      "id": "0b284340",
      "metadata": {
        "id": "0b284340"
      },
      "source": [
        "### (Optional) Delete Run\n",
        "\n",
        "If desired, the run can be deleted from the agent. This will delete the underlying files as well."
      ]
    },
    {
      "cell_type": "code",
      "execution_count": null,
      "id": "05e47473",
      "metadata": {
        "id": "05e47473"
      },
      "outputs": [],
      "source": [
        "client.agent_run.delete(agent_id=agent_id, run_id=new_run.run_id)"
      ]
    },
    {
      "cell_type": "markdown",
      "source": [
        "### (Optional) Get Agent Information"
      ],
      "metadata": {
        "id": "GQM3CPOE_aW6"
      },
      "id": "GQM3CPOE_aW6"
    },
    {
      "cell_type": "code",
      "source": [
        "# list all agents\n",
        "all_agents = client.agent.list()\n",
        "print(all_agents)"
      ],
      "metadata": {
        "id": "1C_iX1Wn_XA0"
      },
      "id": "1C_iX1Wn_XA0",
      "execution_count": null,
      "outputs": []
    },
    {
      "cell_type": "code",
      "source": [
        "# get an agent\n",
        "agent = client.agent.get(agent_id=agent_id)\n",
        "print(agent)"
      ],
      "metadata": {
        "id": "LEwPkk2N_qJM"
      },
      "id": "LEwPkk2N_qJM",
      "execution_count": null,
      "outputs": []
    }
  ],
  "metadata": {
    "kernelspec": {
      "display_name": "app-py3.12",
      "language": "python",
      "name": "python3"
    },
    "language_info": {
      "name": "python",
      "version": "3.12.4"
    },
    "colab": {
      "provenance": []
    }
  },
  "nbformat": 4,
  "nbformat_minor": 5
}